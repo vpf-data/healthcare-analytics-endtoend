{
 "cells": [
  {
   "cell_type": "code",
   "execution_count": null,
   "id": "d4d9e9f8-191a-49cf-8304-fb9b3937ed7f",
   "metadata": {},
   "outputs": [],
   "source": [
    "# importng modules"
   ]
  },
  {
   "cell_type": "code",
   "execution_count": 38,
   "id": "b63054b6-369d-4dce-9d32-46f4fc14b024",
   "metadata": {},
   "outputs": [],
   "source": [
    "import pandas as pd\n",
    "import random\n",
    "from faker import Faker\n",
    "from datetime import datetime, date, timedelta"
   ]
  },
  {
   "cell_type": "code",
   "execution_count": 39,
   "id": "5c0edadc-1920-47f1-a55b-bc55ebe16b9e",
   "metadata": {},
   "outputs": [],
   "source": [
    "# settings"
   ]
  },
  {
   "cell_type": "code",
   "execution_count": 40,
   "id": "cc83adb8-7858-49ff-af46-80da5702a7ad",
   "metadata": {},
   "outputs": [],
   "source": [
    "Faker.seed(42)\n",
    "random.seed(42)\n",
    "fake = Faker(\"en_NZ\")  # NZ locale for names\n",
    "\n",
    "NUM_PATIENTS = 350\n",
    "NUM_DOCTORS = 25\n",
    "NUM_VISITS = 12000\n",
    "\n",
    "VISIT_START = datetime(2022, 1, 1).date()\n",
    "VISIT_END = datetime(2024, 12, 31).date()"
   ]
  },
  {
   "cell_type": "code",
   "execution_count": 41,
   "id": "4800065c-cacd-46c0-83c8-742124528d0f",
   "metadata": {},
   "outputs": [],
   "source": [
    "# blood gruops - distributed logically"
   ]
  },
  {
   "cell_type": "code",
   "execution_count": 42,
   "id": "60143de1-fd31-49e4-b96a-a0ba19d91e7f",
   "metadata": {},
   "outputs": [],
   "source": [
    "blood_types = [\"O+\", \"A+\", \"B+\", \"AB+\", \"O-\", \"A-\", \"B-\", \"AB-\"]\n",
    "blood_weights = [38, 34, 9, 3, 6, 6, 3, 1]  # realistic percentages"
   ]
  },
  {
   "cell_type": "code",
   "execution_count": 43,
   "id": "6669bb56-e606-4bf5-8777-a8b02756ee86",
   "metadata": {},
   "outputs": [],
   "source": [
    "# Towns in Auckland "
   ]
  },
  {
   "cell_type": "code",
   "execution_count": 44,
   "id": "1c9a45d8-a3a2-47fa-b1be-f2bef57f056b",
   "metadata": {},
   "outputs": [],
   "source": [
    "coastal_towns = [\"Takapuna\", \"Albany\", \"Silverdale\", \"Howick\", \"Glenfield\"]\n",
    "inland_towns = [\"Henderson\", \"Manukau\", \"Papakura\", \"New Lynn\", \"Pukekohe\"]\n",
    "all_towns = coastal_towns + inland_towns"
   ]
  },
  {
   "cell_type": "code",
   "execution_count": 45,
   "id": "5f339b85-fc4d-48b4-9785-8c218c133205",
   "metadata": {},
   "outputs": [],
   "source": [
    "# specialities"
   ]
  },
  {
   "cell_type": "code",
   "execution_count": 46,
   "id": "11b9edf2-26ce-437e-8989-a482f8c954ff",
   "metadata": {},
   "outputs": [],
   "source": [
    "specialties = [\n",
    "    \"General Practitioner\", \"Cardiologist\", \"Dermatologist\", \"Pediatrician\",\n",
    "    \"Orthopedic Surgeon\", \"Neurologist\", \"Psychiatrist\", \"ENT Specialist\",\n",
    "    \"Endocrinologist\", \"Pulmonologist\"\n",
    "]"
   ]
  },
  {
   "cell_type": "code",
   "execution_count": 47,
   "id": "7cf7615c-3a18-406c-a877-be0f1e8b6389",
   "metadata": {},
   "outputs": [],
   "source": [
    "# departments"
   ]
  },
  {
   "cell_type": "code",
   "execution_count": 48,
   "id": "c77e5957-5664-4151-bfcc-8866da7335f5",
   "metadata": {},
   "outputs": [],
   "source": [
    "departments = {\n",
    "    \"General Practitioner\": \"General Medicine\",\n",
    "    \"Cardiologist\": \"Cardiology\",\n",
    "    \"Dermatologist\": \"Dermatology\",\n",
    "    \"Pediatrician\": \"Pediatrics\",\n",
    "    \"Orthopedic Surgeon\": \"Orthopedics\",\n",
    "    \"Neurologist\": \"Neurology\",\n",
    "    \"Psychiatrist\": \"Psychiatry\",\n",
    "    \"ENT Specialist\": \"ENT\",\n",
    "    \"Endocrinologist\": \"Endocrinology\",\n",
    "    \"Pulmonologist\": \"Pulmonology\"\n",
    "}"
   ]
  },
  {
   "cell_type": "code",
   "execution_count": 49,
   "id": "2f473298-8e19-41c8-9515-060e8ebc6565",
   "metadata": {},
   "outputs": [],
   "source": [
    "# seasonal symptoms and diagnosis"
   ]
  },
  {
   "cell_type": "code",
   "execution_count": 50,
   "id": "365ad94c-1397-45e7-b27c-17d28d944f5b",
   "metadata": {},
   "outputs": [],
   "source": [
    "seasonal_data = {\n",
    "    \"Summer\": {\n",
    "        \"months\": [12, 1, 2],\n",
    "        \"symptoms\": [\"Skin Rash\", \"Heat Exhaustion\", \"Hay Fever\", \"Nausea\"],\n",
    "        \"diagnoses\": [\"Eczema\", \"Allergic Rhinitis\", \"Food Poisoning\"]\n",
    "    },\n",
    "    \"Autumn\": {\n",
    "        \"months\": [3, 4, 5],\n",
    "        \"symptoms\": [\"Cough\", \"Fever\", \"Asthma\", \"Sneezing\"],\n",
    "        \"diagnoses\": [\"Bronchitis\", \"Viral Infection\", \"Asthma Flare-up\"]\n",
    "    },\n",
    "    \"Winter\": {\n",
    "        \"months\": [6, 7, 8],\n",
    "        \"symptoms\": [\"Cough\", \"Fever\", \"Chest Pain\", \"Shortness of Breath\"],\n",
    "        \"diagnoses\": [\"Influenza\", \"Pneumonia\", \"Angina\"]\n",
    "    },\n",
    "    \"Spring\": {\n",
    "        \"months\": [9, 10, 11],\n",
    "        \"symptoms\": [\"Hay Fever\", \"Asthma\", \"Skin Rash\", \"Sinus Pain\"],\n",
    "        \"diagnoses\": [\"Allergic Rhinitis\", \"Asthma Flare-up\", \"Sinusitis\"]\n",
    "    }\n",
    "}"
   ]
  },
  {
   "cell_type": "code",
   "execution_count": 51,
   "id": "4a52611d-f181-4865-b62f-1fba3a29a1b1",
   "metadata": {},
   "outputs": [],
   "source": [
    "# symptom to speciality mapping"
   ]
  },
  {
   "cell_type": "code",
   "execution_count": 54,
   "id": "998fe866-bfc0-4fd6-8ccf-839126752873",
   "metadata": {},
   "outputs": [],
   "source": [
    "symptom_specialty_map = {\n",
    "    \"Skin Rash\": \"Dermatologist\",\n",
    "    \"Heat Exhaustion\": \"General Practitioner\",\n",
    "    \"Hay Fever\": \"ENT Specialist\",\n",
    "    \"Nausea\": \"General Practitioner\",\n",
    "    \"Cough\": \"Pulmonologist\",\n",
    "    \"Fever\": \"General Practitioner\",\n",
    "    \"Asthma\": \"Pulmonologist\",\n",
    "    \"Sneezing\": \"ENT Specialist\",\n",
    "    \"Chest Pain\": \"Cardiologist\",\n",
    "    \"Shortness of Breath\": \"Cardiologist\",\n",
    "    \"Sinus Pain\": \"ENT Specialist\"\n",
    "}\n"
   ]
  },
  {
   "cell_type": "code",
   "execution_count": 53,
   "id": "d580a44b-be4e-41b8-82b3-7801f6e91a61",
   "metadata": {},
   "outputs": [],
   "source": [
    "#symptom to diagnosis mapping"
   ]
  },
  {
   "cell_type": "code",
   "execution_count": 55,
   "id": "1ec5f079-df09-4475-9304-cea6ec01a7e6",
   "metadata": {},
   "outputs": [],
   "source": [
    "symptom_to_diag = {\n",
    "    \"Skin Rash\": [\"Eczema\", \"Contact Dermatitis\"],\n",
    "    \"Heat Exhaustion\": [\"Heat Stroke\", \"Dehydration\"],\n",
    "    \"Hay Fever\": [\"Allergic Rhinitis\"],\n",
    "    \"Nausea\": [\"Food Poisoning\", \"Gastroenteritis\"],\n",
    "    \"Cough\": [\"Bronchitis\", \"Viral Infection\"],\n",
    "    \"Fever\": [\"Viral Infection\", \"Influenza\"],\n",
    "    \"Asthma\": [\"Asthma Flare-up\"],\n",
    "    \"Sneezing\": [\"Allergic Rhinitis\", \"Common Cold\"],\n",
    "    \"Chest Pain\": [\"Angina\", \"Myocardial Infarction\"],\n",
    "    \"Shortness of Breath\": [\"Pneumonia\", \"Asthma Flare-up\"],\n",
    "    \"Sinus Pain\": [\"Sinusitis\"]\n",
    "}"
   ]
  },
  {
   "cell_type": "code",
   "execution_count": 56,
   "id": "91b762a9-c27f-46be-8ce1-b5442e477f0d",
   "metadata": {},
   "outputs": [],
   "source": [
    "# Age based chronic condition"
   ]
  },
  {
   "cell_type": "code",
   "execution_count": 57,
   "id": "d3f46b91-4afb-4bcc-b2ff-f0da8d77e84a",
   "metadata": {},
   "outputs": [],
   "source": [
    "def assign_chronic_condition(age):\n",
    "    if age <= 12:\n",
    "        return random.choices([\"Asthma\", \"None\", \"Diabetes (Type 1)\"], weights=[50, 40, 10])[0]\n",
    "    elif 13 <= age <= 19:\n",
    "        return random.choices([\"Asthma\", \"None\", \"Anxiety\"], weights=[40, 40, 20])[0]\n",
    "    elif 20 <= age <= 35:\n",
    "        return random.choices([\"None\", \"Asthma\", \"Anxiety\"], weights=[50, 30, 20])[0]\n",
    "    elif 36 <= age <= 59:\n",
    "        return random.choices([\"Hypertension\", \"Diabetes (Type 2)\", \"Arthritis\", \"None\"], weights=[40, 30, 20, 10])[0]\n",
    "    else:\n",
    "        return random.choices([\"Hypertension\", \"Arthritis\", \"Heart Disease\", \"Chronic Kidney Disease\"], weights=[35, 30, 20, 15])[0]"
   ]
  },
  {
   "cell_type": "code",
   "execution_count": 58,
   "id": "53ddc57e-8203-46b1-8e90-cfa278c9a3ee",
   "metadata": {},
   "outputs": [],
   "source": [
    "# generating patients"
   ]
  },
  {
   "cell_type": "code",
   "execution_count": 59,
   "id": "25cc1182-e285-4a4f-9f98-734c78754825",
   "metadata": {},
   "outputs": [],
   "source": [
    "patients = []\n",
    "six_years_ago = date.today() - timedelta(days=6*365)\n",
    "\n",
    "for pid in range(1, NUM_PATIENTS + 1):\n",
    "    gender = random.choice([\"Male\", \"Female\"])\n",
    "    town = random.choice(all_towns)\n",
    "    town_category = \"Coastal\" if town in coastal_towns else \"Inland\"\n",
    "    dob = fake.date_of_birth(minimum_age=1, maximum_age=90)\n",
    "    # Age as of today (ok for chronic assignment)\n",
    "    age = int((date.today() - dob).days // 365)\n",
    "    # Registration date must be <= VISIT_END\n",
    "    reg_date = fake.date_between(start_date=six_years_ago, end_date=VISIT_END)\n",
    "    chronic = assign_chronic_condition(age)\n",
    "    blood = random.choices(blood_types, weights=blood_weights, k=1)[0]\n",
    "    insurance = random.choices([\"Yes\", \"No\"], weights=[7,3], k=1)[0]\n",
    "\n",
    "    patients.append({\n",
    "        \"PatientID\": pid,\n",
    "        \"Name\": fake.name_male() if gender == \"Male\" else fake.name_female(),\n",
    "        \"Gender\": gender,\n",
    "        \"DOB\": dob,\n",
    "        \"Age\": age,\n",
    "        \"City\": \"Auckland\",\n",
    "        \"Town\": town,\n",
    "        \"TownCategory\": town_category,\n",
    "        \"Insurance\": insurance,\n",
    "        \"BloodType\": blood,\n",
    "        \"ChronicCondition\": chronic,\n",
    "        \"RegistrationDate\": reg_date\n",
    "    })\n"
   ]
  },
  {
   "cell_type": "code",
   "execution_count": 60,
   "id": "e8fc08e2-03c3-41d9-b749-e885680b809a",
   "metadata": {},
   "outputs": [],
   "source": [
    "patients_df = pd.DataFrame(patients)\n",
    "patients_df.to_csv(\"aucklandpatients.csv\", index=False)"
   ]
  },
  {
   "cell_type": "code",
   "execution_count": 61,
   "id": "292aee0b-0aaf-4315-ba6d-072a63f16585",
   "metadata": {},
   "outputs": [],
   "source": [
    "# patients"
   ]
  },
  {
   "cell_type": "code",
   "execution_count": 65,
   "id": "e8485a6c-0ba7-45ea-9a43-cbdd698a7b96",
   "metadata": {},
   "outputs": [],
   "source": [
    "doctors = []\n",
    "# create a pool of doctors by speciality so we can pick later\n",
    "for did in range(1, NUM_DOCTORS + 1):\n",
    "    speciality = random.choice(specialties)\n",
    "    doctors.append({\n",
    "        \"DoctorID\": did,\n",
    "        \"Name\": \"Dr.\"+fake.name(),\n",
    "        \"Speciality\": speciality,\n",
    "        \"Department\": departments[speciality],\n",
    "        \"ExperienceYears\": random.randint(2, 35),\n",
    "        \"City\": \"Auckland\",\n",
    "        \"Town\": random.choice(all_towns)\n",
    "    })\n"
   ]
  },
  {
   "cell_type": "code",
   "execution_count": 66,
   "id": "fb5ca546-43bd-4ed1-9891-369c4f1b3449",
   "metadata": {},
   "outputs": [],
   "source": [
    "doctors_df = pd.DataFrame(doctors)\n",
    "doctors_df.to_csv(\"aucklanddoctors.csv\", index=False)"
   ]
  },
  {
   "cell_type": "code",
   "execution_count": 67,
   "id": "b2901fd2-e2f9-4b13-9deb-7fc335cf060f",
   "metadata": {},
   "outputs": [],
   "source": [
    "# build a mapping speciality to list of Doctors ids"
   ]
  },
  {
   "cell_type": "code",
   "execution_count": 68,
   "id": "65b0af23-1c7e-4744-be63-998d6e7ca389",
   "metadata": {},
   "outputs": [],
   "source": [
    "doctors_by_speciality = {}\n",
    "for doc in doctors:\n",
    "    doctors_by_speciality.setdefault(doc[\"Speciality\"], []).append(doc[\"DoctorID\"])"
   ]
  },
  {
   "cell_type": "code",
   "execution_count": 69,
   "id": "05469383-0f4d-48aa-8f00-736b367e104e",
   "metadata": {},
   "outputs": [
    {
     "data": {
      "text/plain": [
       "{'ENT Specialist': [1, 7, 16],\n",
       " 'Neurologist': [2, 4, 6],\n",
       " 'Cardiologist': [3, 14],\n",
       " 'General Practitioner': [5, 11, 18],\n",
       " 'Endocrinologist': [8, 15, 25],\n",
       " 'Orthopedic Surgeon': [9, 17, 22, 23, 24],\n",
       " 'Pulmonologist': [10],\n",
       " 'Pediatrician': [12, 19],\n",
       " 'Psychiatrist': [13, 20, 21]}"
      ]
     },
     "execution_count": 69,
     "metadata": {},
     "output_type": "execute_result"
    }
   ],
   "source": [
    "doctors_by_speciality"
   ]
  },
  {
   "cell_type": "code",
   "execution_count": 70,
   "id": "cceea750-d0c6-4068-a972-a96cd4003f1c",
   "metadata": {},
   "outputs": [],
   "source": [
    "# build a mapping department to doctor ids "
   ]
  },
  {
   "cell_type": "code",
   "execution_count": 71,
   "id": "a5aa79e4-8fcd-4c3e-befa-10a90d6b6a81",
   "metadata": {},
   "outputs": [],
   "source": [
    "doctors_by_department = {}\n",
    "for doc in doctors:\n",
    "    doctors_by_department.setdefault(doc[\"Department\"], []).append(doc[\"DoctorID\"])"
   ]
  },
  {
   "cell_type": "code",
   "execution_count": 72,
   "id": "f54b9f21-7316-49b1-b389-9eae1024806e",
   "metadata": {},
   "outputs": [
    {
     "data": {
      "text/plain": [
       "{'ENT': [1, 7, 16],\n",
       " 'Neurology': [2, 4, 6],\n",
       " 'Cardiology': [3, 14],\n",
       " 'General Medicine': [5, 11, 18],\n",
       " 'Endocrinology': [8, 15, 25],\n",
       " 'Orthopedics': [9, 17, 22, 23, 24],\n",
       " 'Pulmonology': [10],\n",
       " 'Pediatrics': [12, 19],\n",
       " 'Psychiatry': [13, 20, 21]}"
      ]
     },
     "execution_count": 72,
     "metadata": {},
     "output_type": "execute_result"
    }
   ],
   "source": [
    "doctors_by_department"
   ]
  },
  {
   "cell_type": "code",
   "execution_count": 73,
   "id": "778ea21d-0984-4111-881f-2d8b1eebb2b0",
   "metadata": {},
   "outputs": [],
   "source": [
    "# generating visits"
   ]
  },
  {
   "cell_type": "code",
   "execution_count": 77,
   "id": "75f69986-a5b9-4e45-b30c-bfda71dda3a4",
   "metadata": {},
   "outputs": [],
   "source": [
    "visits = []\n",
    "\n",
    "for _ in range(NUM_VISITS):\n",
    "    # --- pick patient ---\n",
    "    patient = random.choice(patients)\n",
    "    patient_id = patient[\"PatientID\"]\n",
    "    patient_age = patient[\"Age\"]\n",
    "    patient_town = patient[\"Town\"]\n",
    "    town_category = patient[\"TownCategory\"]\n",
    "    reg_date = pd.to_datetime(patient[\"RegistrationDate\"]).date()\n",
    "\n",
    "    # ensure visit date >= registration date\n",
    "    if reg_date > VISIT_END:\n",
    "        continue  # skip impossible cases\n",
    "\n",
    "    start_for_patient = max(reg_date, VISIT_START)\n",
    "    days_range = (VISIT_END - start_for_patient).days\n",
    "    if days_range <= 0:\n",
    "        visit_date = start_for_patient\n",
    "    else:\n",
    "        visit_date = start_for_patient + timedelta(days=random.randint(0, days_range))\n",
    "\n",
    "    # --- season selection ---\n",
    "    month = visit_date.month\n",
    "    for sname, details in seasonal_data.items():\n",
    "        if month in details[\"months\"]:\n",
    "            season = sname\n",
    "            season_symptoms = details[\"symptoms\"]\n",
    "            season_diagnoses = details[\"diagnoses\"]\n",
    "            break\n",
    "\n",
    "    # --- symptom selection ---\n",
    "    symptom = random.choice(season_symptoms)\n",
    "\n",
    "    # coastal bias: in summer coastal towns → ear/skin/heat\n",
    "    if town_category == \"Coastal\" and season == \"Summer\":\n",
    "        symptom = random.choices(\n",
    "            [\"Skin Rash\", \"Heat Exhaustion\", \"Ear Infection\", symptom],\n",
    "            weights=[30, 25, 20, 25],\n",
    "            k=1\n",
    "        )[0]\n",
    "\n",
    "    # age bias: kids & seniors\n",
    "    if patient_age <= 12:\n",
    "        symptom = random.choices(\n",
    "            [\"Ear Infection\", \"Common Cold\", \"Asthma\", symptom],\n",
    "            weights=[30, 25, 20, 25],\n",
    "            k=1\n",
    "        )[0]\n",
    "    elif patient_age >= 65 and season == \"Winter\":\n",
    "        symptom = random.choices(\n",
    "            [\"Chest Pain\", \"Shortness of Breath\", \"Cough\", symptom],\n",
    "            weights=[30, 25, 25, 20],\n",
    "            k=1\n",
    "        )[0]\n",
    "\n",
    "    # --- doctor & department ---\n",
    "    specialty = symptom_specialty_map.get(symptom, \"General Practitioner\")\n",
    "    department = departments.get(specialty, \"General Medicine\")\n",
    "\n",
    "    eligible_doctors = doctors_by_speciality.get(specialty, [])\n",
    "    if not eligible_doctors:\n",
    "        eligible_doctors = doctors_by_department.get(department, [])\n",
    "    if not eligible_doctors:\n",
    "        eligible_doctors = [d[\"DoctorID\"] for d in doctors]  # fallback all doctors\n",
    "\n",
    "    doctor_id = random.choice(eligible_doctors)\n",
    "\n",
    "    # --- diagnosis selection ---\n",
    "    diag_candidates = symptom_to_diag.get(symptom, []) + season_diagnoses\n",
    "    if patient_age <= 12:\n",
    "        diag_candidates += [\"Ear Infection\", \"Common Cold\"]\n",
    "    if patient_age >= 65:\n",
    "        diag_candidates += [\"Pneumonia\", \"Heart Disease\"]\n",
    "\n",
    "    diagnosis = random.choice(list(set(diag_candidates)))  # avoid duplicate list entries\n",
    "\n",
    "    # --- visit type & billing ---\n",
    "    visit_type = random.choices(\n",
    "        [\"Outpatient\", \"Emergency\", \"Inpatient\"],\n",
    "        weights=[70, 20, 10],\n",
    "        k=1\n",
    "    )[0]\n",
    "    payment_method = random.choices(\n",
    "        [\"Insurance\", \"Self-pay\", \"ACC\"],\n",
    "        weights=[70, 20, 10],\n",
    "        k=1\n",
    "    )[0]\n",
    "    billing_amount = {\n",
    "        \"Outpatient\": round(random.uniform(50, 200), 2),\n",
    "        \"Emergency\": round(random.uniform(200, 1500), 2),\n",
    "        \"Inpatient\": round(random.uniform(500, 5000), 2)\n",
    "    }[visit_type]\n",
    "\n",
    "    # --- follow-up logic ---\n",
    "    base_followup_prob = 0.18\n",
    "    if diagnosis in [\"Arthritis\", \"Heart Disease\", \"Pneumonia\", \"Bronchitis\", \"Asthma Flare-up\"]:\n",
    "        base_followup_prob += 0.25\n",
    "    if patient[\"ChronicCondition\"] != \"None\":\n",
    "        base_followup_prob += 0.08\n",
    "\n",
    "    follow_up_required = \"Yes\" if random.random() < base_followup_prob else \"No\"\n",
    "\n",
    "    followup_doctor_id = None\n",
    "    if follow_up_required == \"Yes\":\n",
    "        if random.random() < 0.7:\n",
    "            followup_doctor_id = doctor_id\n",
    "        else:\n",
    "            same_dept_doctors = doctors_by_department.get(department, [])\n",
    "            other_docs = [d for d in same_dept_doctors if d != doctor_id]\n",
    "            followup_doctor_id = random.choice(other_docs) if other_docs else doctor_id\n",
    "\n",
    "    # --- append visit (no VisitID yet) ---\n",
    "    visits.append({\n",
    "        \"PatientID\": patient_id,\n",
    "        \"DoctorID\": doctor_id,\n",
    "        \"FollowUpDoctorID\": followup_doctor_id,\n",
    "        \"Town\": patient_town,\n",
    "        \"TownCategory\": town_category,\n",
    "        \"Symptom\": symptom,\n",
    "        \"Diagnosis\": diagnosis,\n",
    "        \"VisitDate\": visit_date,\n",
    "        \"VisitType\": visit_type,\n",
    "        \"BillingAmount\": billing_amount,\n",
    "        \"InsuranceUsed\": \"Yes\" if payment_method == \"Insurance\" else \"No\",\n",
    "        \"PaymentMethod\": payment_method,\n",
    "        \"PrescriptionGiven\": random.choices([\"Yes\", \"No\"], weights=[70, 30], k=1)[0],\n",
    "        \"FollowUpRequired\": follow_up_required,\n",
    "        \"ReadmissionFlag\": None,  # will calculate later\n",
    "        \"VisitDurationMinutes\": random.randint(5, 240)\n",
    "    })\n",
    "\n",
    "# --- chronological VisitID assignment ---\n",
    "visits.sort(key=lambda x: x[\"VisitDate\"])\n",
    "for idx, visit in enumerate(visits, start=1):\n",
    "    visit[\"VisitID\"] = idx"
   ]
  },
  {
   "cell_type": "code",
   "execution_count": 78,
   "id": "6b05cda1-8b1c-4618-acd1-9e2635b7ec2e",
   "metadata": {},
   "outputs": [],
   "source": [
    "# Convert to DataFrame and compute ReadmissionFlag\n",
    "visits_df = pd.DataFrame(visits)\n",
    "\n",
    "# Convert VisitDate to datetime.date if needed\n",
    "visits_df[\"VisitDate\"] = pd.to_datetime(visits_df[\"VisitDate\"]).dt.date\n",
    "\n",
    "# Sort visits by PatientID and VisitDate\n",
    "visits_df.sort_values([\"PatientID\", \"VisitDate\"], inplace=True)\n",
    "visits_df.reset_index(drop=True, inplace=True)\n",
    "\n",
    "# Compute ReadmissionFlag: a visit is readmission if previous visit for same patient exists and\n",
    "# current_visit_date - previous_visit_date <= 30 days AND previous was NOT a scheduled follow-up.\n",
    "readmission_flags = []\n",
    "prev_dates = {}  # patient_id -> (prev_date, prev_followup_required)\n",
    "\n",
    "for idx, row in visits_df.iterrows():\n",
    "    pid = row[\"PatientID\"]\n",
    "    vdate = pd.to_datetime(row[\"VisitDate\"]).date()\n",
    "    prev = prev_dates.get(pid)\n",
    "    flag = \"No\"\n",
    "    if prev:\n",
    "        prev_date, prev_followup = prev\n",
    "        days_diff = (vdate - prev_date).days\n",
    "        # if current visit within 30 days of previous visit and previous was not a scheduled follow-up -> readmission\n",
    "        if days_diff <= 30 and (prev_followup == \"No\"):\n",
    "            flag = \"Yes\"\n",
    "    # update prev_dates using current visit\n",
    "    prev_dates[pid] = (vdate, row[\"FollowUpRequired\"])\n",
    "    readmission_flags.append(flag)\n",
    "\n",
    "visits_df[\"ReadmissionFlag\"] = readmission_flags\n"
   ]
  },
  {
   "cell_type": "code",
   "execution_count": 79,
   "id": "13a2ff60-3c11-4cd4-b8cf-a0561c481338",
   "metadata": {},
   "outputs": [],
   "source": [
    "visits_df.to_csv(\"aucklandvisits.csv\", index=False)"
   ]
  },
  {
   "cell_type": "code",
   "execution_count": 80,
   "id": "c038ee51-47f1-4f6b-9a3f-1562477bc290",
   "metadata": {},
   "outputs": [
    {
     "name": "stdout",
     "output_type": "stream",
     "text": [
      "Datasets generated: patients.csv, doctors.csv, visits.csv\n",
      "  - RegistrationDate capped <=  VISIT_END\n",
      "  - VisitDate always >= RegistrationDate\n",
      "  - Symptom -> Specialty -> Doctor mapping applied\n",
      "  - FollowUpDoctor assigned (same or same-department)\n",
      "  - ReadmissionFlag computed (unplanned revisit within 30 days)\n",
      "  - Age-based chronic conditions, seasonal & coastal/inland bias, blood type weights applied\n"
     ]
    }
   ],
   "source": [
    "print(\"Datasets generated: patients.csv, doctors.csv, visits.csv\")\n",
    "print(\"  - RegistrationDate capped <=\",\" VISIT_END\")\n",
    "print(\"  - VisitDate always >= RegistrationDate\")\n",
    "print(\"  - Symptom -> Specialty -> Doctor mapping applied\")\n",
    "print(\"  - FollowUpDoctor assigned (same or same-department)\")\n",
    "print(\"  - ReadmissionFlag computed (unplanned revisit within 30 days)\")\n",
    "print(\"  - Age-based chronic conditions, seasonal & coastal/inland bias, blood type weights applied\")"
   ]
  },
  {
   "cell_type": "code",
   "execution_count": null,
   "id": "73452dc5-68a6-4bd6-8dc1-de2514d4b9f0",
   "metadata": {},
   "outputs": [],
   "source": []
  }
 ],
 "metadata": {
  "kernelspec": {
   "display_name": "Python 3 (ipykernel)",
   "language": "python",
   "name": "python3"
  },
  "language_info": {
   "codemirror_mode": {
    "name": "ipython",
    "version": 3
   },
   "file_extension": ".py",
   "mimetype": "text/x-python",
   "name": "python",
   "nbconvert_exporter": "python",
   "pygments_lexer": "ipython3",
   "version": "3.10.11"
  }
 },
 "nbformat": 4,
 "nbformat_minor": 5
}
